{
 "cells": [
  {
   "cell_type": "code",
   "execution_count": 8,
   "id": "7e584b09",
   "metadata": {},
   "outputs": [
    {
     "data": {
      "text/plain": [
       "False"
      ]
     },
     "execution_count": 8,
     "metadata": {},
     "output_type": "execute_result"
    }
   ],
   "source": [
    "from langgraph.graph import StateGraph,START, END\n",
    "from typing import TypedDict\n",
    "from langchain_huggingface import ChatHuggingFace, HuggingFaceEndpoint\n",
    "from dotenv import load_dotenv\n",
    "\n",
    "\n",
    "load_dotenv()"
   ]
  },
  {
   "cell_type": "code",
   "execution_count": 9,
   "id": "44f5cd7c",
   "metadata": {},
   "outputs": [],
   "source": [
    "llm = HuggingFaceEndpoint(repo_id=\"deepseek-ai/DeepSeek-V3.2-Exp\", task=\"text-generation\")\n",
    "model = ChatHuggingFace(llm=llm, temperature=1.100)"
   ]
  },
  {
   "cell_type": "code",
   "execution_count": 10,
   "id": "efa94610",
   "metadata": {},
   "outputs": [],
   "source": [
    "#Create a State\n",
    "class llmstate(TypedDict):\n",
    "\n",
    "    question: str\n",
    "    answer: str"
   ]
  },
  {
   "cell_type": "code",
   "execution_count": null,
   "id": "0cc95943",
   "metadata": {},
   "outputs": [],
   "source": [
    "#Create a graph\n",
    "\n",
    "graph = StateGraph(llmstate)\n",
    "\n",
    "#Add Nodes\n",
    "graph.add_node('llm_qa', llm_qa)"
   ]
  }
 ],
 "metadata": {
  "kernelspec": {
   "display_name": "myenv",
   "language": "python",
   "name": "python3"
  },
  "language_info": {
   "codemirror_mode": {
    "name": "ipython",
    "version": 3
   },
   "file_extension": ".py",
   "mimetype": "text/x-python",
   "name": "python",
   "nbconvert_exporter": "python",
   "pygments_lexer": "ipython3",
   "version": "3.13.7"
  }
 },
 "nbformat": 4,
 "nbformat_minor": 5
}
